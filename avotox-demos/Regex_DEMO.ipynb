{
  "nbformat": 4,
  "nbformat_minor": 0,
  "metadata": {
    "colab": {
      "provenance": []
    },
    "kernelspec": {
      "name": "python3",
      "display_name": "Python 3"
    },
    "language_info": {
      "name": "python"
    }
  },
  "cells": [
    {
      "cell_type": "code",
      "execution_count": null,
      "metadata": {
        "id": "-enxzUToCzIO"
      },
      "outputs": [],
      "source": [
        "import re"
      ]
    },
    {
      "cell_type": "code",
      "source": [
        "# Example text\n",
        "text = \"Contact us at nemiliano@berkeley.edu and hheidy_463@berkeley.com or call (213) 476-2264.\""
      ],
      "metadata": {
        "id": "gDdT2NJVDK53"
      },
      "execution_count": null,
      "outputs": []
    },
    {
      "cell_type": "code",
      "source": [
        "# Email regex pattern\n",
        "email_pattern = r'[a-zA-Z0-9._%+-]+@[a-zA-Z0-9.-]+\\.[a-zA-Z]{2,}'\n",
        "emails = re.findall(email_pattern, text)\n",
        "print(\"Emails found:\", emails)"
      ],
      "metadata": {
        "colab": {
          "base_uri": "https://localhost:8080/"
        },
        "id": "dJHVXgcXDX_A",
        "outputId": "7211c71e-b40e-46ca-af3b-506b06d25b0e"
      },
      "execution_count": null,
      "outputs": [
        {
          "output_type": "stream",
          "name": "stdout",
          "text": [
            "Emails found: ['nemiliano@berkeley.edu', 'hheidy_463@berkeley.com']\n"
          ]
        }
      ]
    },
    {
      "cell_type": "code",
      "source": [
        "# Phone number regex pattern\n",
        "phone_pattern = r'\\(\\d{3}\\) \\d{3}-\\d{4}'\n",
        "phones = re.findall(phone_pattern, text)\n",
        "print(\"Phone numbers found:\", phones)"
      ],
      "metadata": {
        "colab": {
          "base_uri": "https://localhost:8080/"
        },
        "id": "BJaQB9VCQy65",
        "outputId": "021fb9ad-6956-4c24-f7b6-a027578ccb39"
      },
      "execution_count": null,
      "outputs": [
        {
          "output_type": "stream",
          "name": "stdout",
          "text": [
            "Phone numbers found: ['(213) 476-2264']\n"
          ]
        }
      ]
    }
  ]
}